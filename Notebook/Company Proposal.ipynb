{
 "cells": [
  {
   "cell_type": "markdown",
   "metadata": {},
   "source": [
    "# Company Proposal Maker\n"
   ]
  },
  {
   "cell_type": "code",
   "execution_count": 1,
   "metadata": {},
   "outputs": [
    {
     "data": {
      "text/plain": [
       "True"
      ]
     },
     "execution_count": 1,
     "metadata": {},
     "output_type": "execute_result"
    }
   ],
   "source": [
    "from dotenv import load_dotenv\n",
    "load_dotenv()"
   ]
  },
  {
   "cell_type": "code",
   "execution_count": 2,
   "metadata": {},
   "outputs": [],
   "source": [
    "#Setting LLM model\n",
    "from langchain_groq import ChatGroq\n",
    "\n",
    "llm = ChatGroq(model=\"llama3-70b-8192\",temperature=0.6)"
   ]
  },
  {
   "cell_type": "code",
   "execution_count": 3,
   "metadata": {},
   "outputs": [
    {
     "data": {
      "text/plain": [
       "AIMessage(content=\"Hello! It's nice to meet you. Is there something I can help you with, or would you like to chat?\", additional_kwargs={}, response_metadata={'token_usage': {'completion_tokens': 26, 'prompt_tokens': 11, 'total_tokens': 37, 'completion_time': 0.074285714, 'prompt_time': 0.000124889, 'queue_time': 0.057474341, 'total_time': 0.074410603}, 'model_name': 'llama3-70b-8192', 'system_fingerprint': 'fp_dd4ae1c591', 'finish_reason': 'stop', 'logprobs': None}, id='run-397edc31-dfea-4115-88d2-cf876bafd28d-0', usage_metadata={'input_tokens': 11, 'output_tokens': 26, 'total_tokens': 37})"
      ]
     },
     "execution_count": 3,
     "metadata": {},
     "output_type": "execute_result"
    }
   ],
   "source": [
    "#Testing\n",
    "llm.invoke(\"hello\")"
   ]
  },
  {
   "cell_type": "markdown",
   "metadata": {},
   "source": [
    "## PDF Loader"
   ]
  },
  {
   "cell_type": "code",
   "execution_count": 41,
   "metadata": {},
   "outputs": [],
   "source": [
    "from langchain.document_loaders import PyPDFLoader\n",
    "\n",
    "file_path = \"SRS_Ecommerce_Platform.pdf\"\n",
    "\n",
    "loader = PyPDFLoader(file_path)"
   ]
  },
  {
   "cell_type": "code",
   "execution_count": 42,
   "metadata": {},
   "outputs": [],
   "source": [
    "docs = loader.load()"
   ]
  },
  {
   "cell_type": "code",
   "execution_count": 43,
   "metadata": {},
   "outputs": [
    {
     "name": "stdout",
     "output_type": "stream",
     "text": [
      "Software Requirements Specification (SRS) Document\n",
      "- Scalable architecture to accommodate growth in users and transactions\n",
      "2.6 Assumptions and Dependencies\n",
      "- Users have access to the internet and a compatible web browser\n",
      "- Third-party services (payment gateways, shipping providers) are reliable and offer APIs for integration\n",
      "3. Specific Requirements\n",
      "3.1 Functional Requirements\n",
      "- User Registration and Authentication\n",
      "  - Artisans and customers must be able to register using email and password.\n",
      "  - Implement email verification for new accounts.\n",
      "  - Provide password recovery options.\n",
      "- Storefront Customization\n",
      "  - Artisans can select from predefined themes.\n",
      "  - Ability to upload logos and banners.\n",
      "  - Customizable color schemes and fonts.\n",
      "- Product Management\n",
      "  - Add new products with images, descriptions, prices, and stock levels.\n",
      "  - Edit and delete existing product listings.\n",
      "  - Organize products into categories.\n",
      "- Shopping Cart and Checkout\n"
     ]
    }
   ],
   "source": [
    "print(docs[2].page_content)"
   ]
  },
  {
   "cell_type": "markdown",
   "metadata": {},
   "source": [
    "#### Combining content of the document"
   ]
  },
  {
   "cell_type": "code",
   "execution_count": 44,
   "metadata": {},
   "outputs": [],
   "source": [
    "#Combining document data\n",
    "software_data  = \"\"\n",
    "for data in docs:\n",
    "    software_data+=data.page_content"
   ]
  },
  {
   "cell_type": "code",
   "execution_count": 45,
   "metadata": {},
   "outputs": [
    {
     "data": {
      "text/plain": [
       "4363"
      ]
     },
     "execution_count": 45,
     "metadata": {},
     "output_type": "execute_result"
    }
   ],
   "source": [
    "len(software_data)"
   ]
  },
  {
   "cell_type": "markdown",
   "metadata": {},
   "source": [
    "### Filtering the extracted data"
   ]
  },
  {
   "cell_type": "code",
   "execution_count": 46,
   "metadata": {},
   "outputs": [],
   "source": [
    "import untils\n",
    "\n",
    "#Filtering unnecessay data\n",
    "filtered_data = untils.clean_text(software_data)"
   ]
  },
  {
   "cell_type": "code",
   "execution_count": 47,
   "metadata": {},
   "outputs": [
    {
     "data": {
      "text/plain": [
       "4061"
      ]
     },
     "execution_count": 47,
     "metadata": {},
     "output_type": "execute_result"
    }
   ],
   "source": [
    "len(filtered_data)"
   ]
  },
  {
   "cell_type": "code",
   "execution_count": 48,
   "metadata": {},
   "outputs": [
    {
     "data": {
      "text/plain": [
       "'Software Requirements Specification SRS Document1 Introduction11 PurposeThe purpose of this document is to define the functional and nonfunctional requirements for developing acustomizable ecommerce platform tailored for artisans This platform aims to provide individual artisans withthe tools to create personalized online stores to showcase and sell their handcrafted products12 ScopeThis ecommerce platform will enable artisans to register create personalized storefronts manage productlistings process orders and receive payments Customers will be able to browse products make purchasesand leave reviews The system will include an admin panel for platform management and analytics13 Definitions Acronyms and Abbreviations Admin Panel The backend interface for platform administrators to manage users products andtransactions CMS Content Management System A system that allows users to create manage and modify content ona website without specialized technical knowledge Payment Gateway A service that authorizes and processes payments in online and brickandmortarstores14 References Asanas Software Requirements Document Template asanacom Miros Software Requirements Document Template mirocom2 Overall DescriptionSoftware Requirements Specification SRS Document21 Product PerspectiveThe ecommerce platform will be a standalone web application accessible via standard web browsers It willintegrate with thirdparty payment gateways and shipping services to facilitate transactions and deliveries22 Product Functions Artisan Registration and Authentication Storefront Customization Product Management Order Management Customer Browsing and Purchasing Review System Admin Panel23 User Classes and Characteristics Artisans Individuals or small businesses creating handcrafted products Customers Individuals interested in purchasing handcrafted products Administrators Personnel managing the platforms operations and user activities24 Operating EnvironmentThe platform will operate in a cloudbased environment accessible via modern web browsers on desktopstablets and smartphones25 Design and Implementation Constraints Compliance with data protection regulations eg GDPR Integration with specified payment gateways and shipping providersSoftware Requirements Specification SRS Document Scalable architecture to accommodate growth in users and transactions26 Assumptions and Dependencies Users have access to the internet and a compatible web browser Thirdparty services payment gateways shipping providers are reliable and offer APIs for integration3 Specific Requirements31 Functional Requirements User Registration and Authentication Artisans and customers must be able to register using email and password Implement email verification for new accounts Provide password recovery options Storefront Customization Artisans can select from predefined themes Ability to upload logos and banners Customizable color schemes and fonts Product Management Add new products with images descriptions prices and stock levels Edit and delete existing product listings Organize products into categories Shopping Cart and CheckoutSoftware Requirements Specification SRS Document Customers can addremove products tofrom the shopping cart Display total price including taxes and shipping costs Secure checkout process with multiple payment options Order Management Artisans can view order details and update order statuses Automated email notifications for order confirmations and updates Review System Customers can submit product reviews and ratings Artisans can respond to reviews Moderation tools for administrators32 NonFunctional Requirements Performance The system should handle up to 10000 concurrent users without performance degradation Page load times should not exceed 3 seconds under normal load Security Data encryption for sensitive information eg passwords payment details Regular security audits and compliance with industry standards Usability Intuitive user interface with accessible design principles Responsive design for optimal viewing on various devices'"
      ]
     },
     "execution_count": 48,
     "metadata": {},
     "output_type": "execute_result"
    }
   ],
   "source": [
    "filtered_data"
   ]
  },
  {
   "cell_type": "markdown",
   "metadata": {},
   "source": [
    "### Getting JSON data"
   ]
  },
  {
   "cell_type": "code",
   "execution_count": 52,
   "metadata": {},
   "outputs": [],
   "source": [
    "data_extraction_prompt =\"\"\"\n",
    "    You are an AI assistant tasked with analyzing a software requirements document provided by a client. Your goal is to extract and generate a structured JSON output that includes the essential details needed for a project proposal.\n",
    "\n",
    "    ### **Instructions:**\n",
    "    1. Carefully analyze the document content to understand the client's problem, requirements, and expectations.\n",
    "    2. Extract relevant details s   uch as client information, problem statement.\n",
    "    3. Ensure the JSON output follows the exact structure defined below.\n",
    "\n",
    "    ### **Document Content:**\n",
    "    {document_text}\n",
    "\n",
    "    JSON fileds must contain Following,\n",
    "    - clent_problem, client_requirements,client_expectation,indept_analysis_of_problem\n",
    "    \n",
    "    **Now, analyze the provided document and generate the JSON output. Return JSON Output Only. Nothing else**\n",
    "    \"\"\""
   ]
  },
  {
   "cell_type": "code",
   "execution_count": 53,
   "metadata": {},
   "outputs": [],
   "source": [
    "# data_extraction_prompt = \"\"\"\n",
    "# You are an AI assistant tasked with analyzing a Software Requirements Document (SRD) provided by a client. Your primary goal is to extract essential project details and deliver a structured JSON output suitable for generating a proposal and performing in-depth project planning.\n",
    "\n",
    "# ### Instructions:\n",
    "# 1. Carefully read and analyze the provided document content.\n",
    "# 2. Identify and extract key information regarding:\n",
    "#     - The client's problem or challenge.\n",
    "#     - The specific requirements outlined by the client.\n",
    "#     - The client's expectations in terms of outcomes or deliverables.\n",
    "#     - A comprehensive, in-depth analysis of the stated problem, considering the potential causes, constraints, and impact.\n",
    "\n",
    "# 3. Based on your analysis, generate a JSON object containing **exactly** the following fields:\n",
    "# 4. Do Not Return any heading and suggestion JUST JSON Output. NO PREAMBLE\n",
    "#   ### **Document Content:**\n",
    "#   {document_text}\n",
    "\n",
    "# ```json\n",
    "# {{\n",
    "#   \"client_problem\": \"\",                // A brief summary of the core issue or challenge faced by the client.\n",
    "#   \"client_requirements\": \"\",           // A detailed list or paragraph describing all specific requirements mentioned by the client.\n",
    "#   \"client_expectation\": \"\",            // What the client hopes to achieve or expects as a result of the solution.\n",
    "#   \"indept_analysis_of_problem\": \"\"     // A detailed technical and contextual analysis of the client's problem. Go beyond surface-level insights.\n",
    "# }}\n",
    "# ```\n",
    "# *Now, analyze the provided document and generate the JSON output.**\n",
    "\n",
    "\n",
    "# \"\"\""
   ]
  },
  {
   "cell_type": "code",
   "execution_count": 54,
   "metadata": {},
   "outputs": [],
   "source": [
    "#Using LLM to get the template data for the proposal\n",
    "\n",
    "from langchain.prompts import PromptTemplate\n",
    "\n",
    "extraction_prompt = PromptTemplate(\n",
    "    input_variables=[\"document_text\"],\n",
    "    template=data_extraction_prompt\n",
    ")"
   ]
  },
  {
   "cell_type": "code",
   "execution_count": 55,
   "metadata": {},
   "outputs": [],
   "source": [
    "#Running the prompt to get the output \n",
    "# extraction_prompt.format({\"document_text\",filtered_data})\n",
    "\n",
    "extraction_chain = extraction_prompt | llm\n",
    "\n"
   ]
  },
  {
   "cell_type": "code",
   "execution_count": 56,
   "metadata": {},
   "outputs": [],
   "source": [
    "#Calling chain to get the data\n",
    "response = extraction_chain.invoke(input={\"document_text\":filtered_data})"
   ]
  },
  {
   "cell_type": "code",
   "execution_count": 58,
   "metadata": {},
   "outputs": [
    {
     "name": "stdout",
     "output_type": "stream",
     "text": [
      "```\n",
      "{\n",
      "  \"client_problem\": \"Artisans lack a customizable ecommerce platform to showcase and sell their handcrafted products\",\n",
      "  \"client_requirements\": {\n",
      "    \"functional_requirements\": [\n",
      "      \"User Registration and Authentication\",\n",
      "      \"Storefront Customization\",\n",
      "      \"Product Management\",\n",
      "      \"Shopping Cart and Checkout\",\n",
      "      \"Order Management\",\n",
      "      \"Review System\"\n",
      "    ],\n",
      "    \"nonfunctional_requirements\": [\n",
      "      \"Performance\",\n",
      "      \"Security\",\n",
      "      \"Usability\"\n",
      "    ]\n",
      "  },\n",
      "  \"client_expectation\": {\n",
      "    \"platform_capabilities\": [\n",
      "      \"Artisan registration and authentication\",\n",
      "      \"Personalized storefronts\",\n",
      "      \"Product management\",\n",
      "      \"Order processing and payment\",\n",
      "      \"Customer reviews and ratings\"\n",
      "    ],\n",
      "    \"admin_panel\": \"Platform management and analytics\"\n",
      "  },\n",
      "  \"indepth_analysis_of_problem\": {\n",
      "    \"root_cause\": \"Lack of a tailored ecommerce platform for artisans\",\n",
      "    \"impact\": \"Artisans struggle to showcase and sell their handcrafted products online\",\n",
      "    \"goals\": \"Provide artisans with a customizable ecommerce platform to increase online sales\",\n",
      "    \"assumptions\": [\n",
      "      \"Users have access to the internet and a compatible web browser\",\n",
      "      \"Third-party services (payment gateways, shipping providers) are reliable and offer APIs for integration\"\n",
      "    ]\n",
      "  }\n",
      "}\n",
      "```\n"
     ]
    }
   ],
   "source": [
    "print(response.content)"
   ]
  },
  {
   "cell_type": "code",
   "execution_count": 59,
   "metadata": {},
   "outputs": [],
   "source": [
    "client_data = response.content"
   ]
  },
  {
   "cell_type": "markdown",
   "metadata": {},
   "source": [
    "### Company Quatation"
   ]
  },
  {
   "cell_type": "code",
   "execution_count": 66,
   "metadata": {},
   "outputs": [],
   "source": [
    "#Reading Sample company quatation for pricing\n",
    "from langchain.document_loaders import PyPDFLoader\n",
    "\n",
    "file_path = \"company_quatation.pdf\"\n",
    "quatation_loder = PyPDFLoader(file_path)\n"
   ]
  },
  {
   "cell_type": "code",
   "execution_count": 68,
   "metadata": {},
   "outputs": [],
   "source": [
    "quatation_doc = quatation_loder.load()"
   ]
  },
  {
   "cell_type": "code",
   "execution_count": 69,
   "metadata": {},
   "outputs": [
    {
     "data": {
      "text/plain": [
       "2"
      ]
     },
     "execution_count": 69,
     "metadata": {},
     "output_type": "execute_result"
    }
   ],
   "source": [
    "len(quatation_doc)"
   ]
  },
  {
   "cell_type": "code",
   "execution_count": 70,
   "metadata": {},
   "outputs": [],
   "source": [
    "#Combining data into a string\n",
    "quatation_data = \"\"\n",
    "for data in quatation_doc:\n",
    "    quatation_data += data.page_content"
   ]
  },
  {
   "cell_type": "code",
   "execution_count": 71,
   "metadata": {},
   "outputs": [
    {
     "data": {
      "text/plain": [
       "1359"
      ]
     },
     "execution_count": 71,
     "metadata": {},
     "output_type": "execute_result"
    }
   ],
   "source": [
    "len(quatation_data)"
   ]
  },
  {
   "cell_type": "code",
   "execution_count": 72,
   "metadata": {},
   "outputs": [
    {
     "data": {
      "text/plain": [
       "'Software Development Quotation\\nDRC Systems India Limited\\nDate: 04 April, 2025\\nService Description Duration Amount\\n(INR)\\nBusiness\\nAnalysis &\\nRequirement\\nGathering\\nInitial workshops,\\nstakeholder meetings,\\nand documentation of\\nrequirements and\\nsystem scope.\\n2 weeks ₹2,50,000\\nUI/UX Design\\nWireframing,\\nprototyping, and final\\ndesign of the user\\ninterface ensuring\\nresponsiveness.\\n2 weeks ₹3,50,000\\nBackend\\nDevelopment\\nBuilding robust RESTful\\nAPIs, server-side\\narchitecture, and\\ndatabase integration.\\n4 weeks ₹12,00,000\\nFrontend\\nDevelopment\\nImplementation of UI\\nusing React.js with\\ncomplete integration to\\nbackend APIs.\\n3 weeks ₹8,50,000\\nQA & Testing\\nManual and automated\\ntesting for functionality,\\nperformance, and\\nusability.\\n2 weeks ₹4,00,000\\nDevOps &\\nDeployment\\nCI/CD pipeline setup,\\ncloud deployment, and\\nenvironment\\nconfiguration (AWS/\\nAzure).\\n1 week ₹3,00,000\\nProject\\nManagement\\nSprint planning, daily\\nstandups, and overall\\nproject tracking using\\ntools like Jira.\\nThroughout\\nthe project ₹3,00,000Service Description Duration Amount\\n(INR)\\nPost-\\nDeployment\\nSupport\\nBug fixing, performance\\nmonitoring, and minor\\nupdates for 1 month\\nafter launch.\\n1 month ₹4,00,000\\nTotal Cost: ₹40,50,000\\nPayment Terms: 50% upfront, 50% upon project completion\\nValidity: Quotation valid for 30 days from the date of issue\\nProject Duration: Estimated 12 weeks from project kickoff'"
      ]
     },
     "execution_count": 72,
     "metadata": {},
     "output_type": "execute_result"
    }
   ],
   "source": [
    "quatation_data"
   ]
  },
  {
   "cell_type": "markdown",
   "metadata": {},
   "source": [
    "### Filtering data"
   ]
  },
  {
   "cell_type": "code",
   "execution_count": 73,
   "metadata": {},
   "outputs": [],
   "source": [
    "import untils\n",
    "\n",
    "fileterd_quatation_data = untils.clean_text(quatation_data)"
   ]
  },
  {
   "cell_type": "code",
   "execution_count": 74,
   "metadata": {},
   "outputs": [
    {
     "data": {
      "text/plain": [
       "1215"
      ]
     },
     "execution_count": 74,
     "metadata": {},
     "output_type": "execute_result"
    }
   ],
   "source": [
    "len(fileterd_quatation_data)"
   ]
  },
  {
   "cell_type": "markdown",
   "metadata": {},
   "source": [
    "### Converting Quatation Data into JSON"
   ]
  },
  {
   "cell_type": "code",
   "execution_count": 75,
   "metadata": {},
   "outputs": [],
   "source": [
    "quatation_extraction_prompt = \"\"\"\n",
    "You are a Helpful AI Assistant which helps to extract the Important information from the quatation details of the company.\n",
    "\n",
    "##Instructions\n",
    "1. Analyse the whole document indepth.\n",
    "2. Extract the information in JSON Format Given Below.\n",
    "3. Return Data into JSON Only.\n",
    "\n",
    "#Qutation Details\n",
    "{quatation_data}\n",
    "\n",
    "### JSON format\n",
    "{{\n",
    "    \"company_name\":\"name of company\",\n",
    "    \"services\":{{\n",
    "        \"service_type_1\":[\"Duration\",\"Cost of service\"],\n",
    "        \"service_type_2\":[\"Duration\",\"Cost of service\"],\n",
    "        \"service_type_3\":[\"Duration\",\"Cost of service\"],\n",
    "    }},\n",
    "    \"Terms & Condition\":[\"T&C 1 \",\"T & C 2\"]\n",
    "}}\n",
    "\n",
    "\"\"\""
   ]
  },
  {
   "cell_type": "code",
   "execution_count": 86,
   "metadata": {},
   "outputs": [],
   "source": [
    "quotation_extraction_prompt = \"\"\"\n",
    "You are a helpful AI assistant designed to extract structured data from company quotations.\n",
    "\n",
    "## Instructions\n",
    "1. Carefully analyze the entire quotation content provided.\n",
    "2. Extract the required details and format them strictly in the JSON structure given below.\n",
    "3. Do **not** include any additional commentary, explanation, or notes—return **only** the JSON object.\n",
    "4. If any required field is missing in the quotation, return it with an empty string or empty list as appropriate.\n",
    "\n",
    "## Quotation Details\n",
    "{quotation_data}\n",
    "\n",
    "## Expected JSON Format\n",
    "{{\n",
    "    \"company_name\": \"Name of the company\",\n",
    "    \"services\": {{\n",
    "        \"service_type_1\": [\"Duration\", \"Cost of service\"],\n",
    "        \"service_type_2\": [\"Duration\", \"Cost of service\"],\n",
    "        \"service_type_3\": [\"Duration\", \"Cost of service\"]\n",
    "    }},\n",
    "    \"Terms & Condition\": [\"T&C 1\", \"T&C 2\"]\n",
    "}}\n",
    "\n",
    "**Return Only JSON Data only. Nothing Else. NO PREAMBLE**\n",
    "\"\"\"\n"
   ]
  },
  {
   "cell_type": "code",
   "execution_count": 87,
   "metadata": {},
   "outputs": [],
   "source": [
    "from langchain.prompts import PromptTemplate\n",
    "\n",
    "quatation_extraction = PromptTemplate(\n",
    "    input_variables=[\"quatation_data\"],\n",
    "    template=quatation_extraction_prompt\n",
    ")\n",
    "\n"
   ]
  },
  {
   "cell_type": "code",
   "execution_count": 92,
   "metadata": {},
   "outputs": [],
   "source": [
    "quatation_chain = quatation_extraction | llm"
   ]
  },
  {
   "cell_type": "code",
   "execution_count": 93,
   "metadata": {},
   "outputs": [],
   "source": [
    "#Getting Quation \n",
    "quatation_response = quatation_chain.invoke(input={\"quatation_data\":fileterd_quatation_data})"
   ]
  },
  {
   "cell_type": "code",
   "execution_count": 94,
   "metadata": {},
   "outputs": [
    {
     "name": "stdout",
     "output_type": "stream",
     "text": [
      "Here is the extracted information in JSON format:\n",
      "\n",
      "```\n",
      "{\n",
      "    \"company_name\": \"DRC Systems India Limited\",\n",
      "    \"services\": {\n",
      "        \"Business Analysis Requirement Gathering\": [\"2 weeks\", \"250000\"],\n",
      "        \"UIUX Design\": [\"2 weeks\", \"350000\"],\n",
      "        \"Backend Development\": [\"4 weeks\", \"1200000\"],\n",
      "        \"Frontend Development\": [\"3 weeks\", \"850000\"],\n",
      "        \"QA Testing\": [\"2 weeks\", \"400000\"],\n",
      "        \"DevOps Deployment\": [\"1 week\", \"300000\"],\n",
      "        \"Project Management\": [\"Throughout the project\", \"300000\"],\n",
      "        \"Post Deployment Support\": [\"1 month\", \"400000\"]\n",
      "    },\n",
      "    \"Terms & Condition\": [\n",
      "        \"50% upfront, 50% upon project completion\",\n",
      "        \"Validity: Quotation valid for 30 days from the date of issue\",\n",
      "        \"Project Duration: Estimated 12 weeks from project kickoff\"\n",
      "    ]\n",
      "}\n",
      "```\n"
     ]
    }
   ],
   "source": [
    "print(quatation_response.content)"
   ]
  },
  {
   "cell_type": "code",
   "execution_count": 95,
   "metadata": {},
   "outputs": [],
   "source": [
    "company_quatation = quatation_response.content"
   ]
  },
  {
   "cell_type": "markdown",
   "metadata": {},
   "source": [
    "## Company Proposal"
   ]
  },
  {
   "cell_type": "code",
   "execution_count": null,
   "metadata": {},
   "outputs": [],
   "source": [
    "proposal_template = \"\"\"\n",
    "\n",
    "    You are a helpful AI Assistant which helps company to generate the software solution proposals based on the given information about the client_requirements and company_quatation.capitalize\n",
    "\n",
    "    ##Instrucations\n",
    "    1. Analyis the given information in depth.\n",
    "    2. Make a innovative proposal for the client to provide a software solution.\n",
    "    3. Extract the given information and Convert them into a JSON Format with the mentioned Fileds.\n",
    "\n",
    "    ## Client Requirements\n",
    "    {client_requirements}\n",
    "\n",
    "    ## Company Quatation\n",
    "    {quatation_details}\n",
    "\n",
    "    ## Required JSON Format\n",
    "\n",
    "    {{\n",
    "        \"company_name\": \"Company Name\",\n",
    "        \"client_name\": \"Client Name\",\n",
    "        \"introduction\": \"Create a introduction for the company about thier expreience in the filed for more than 12 years\",\n",
    "        \"problem_statement\": \"client problem\",\n",
    "        \"solution_phases\": [\n",
    "            \"Requirement Analysis & Planning\",\n",
    "            \"Development & Testing\",\n",
    "            \"Deployment & Support\"\n",
    "        ],\n",
    "        \"team_members\": [\n",
    "            {\"name\": \"John Doe\", \"role\": \"Project Manager\"},\n",
    "            {\"name\": \"Jane Smith\", \"role\": \"Lead Developer\"}\n",
    "        ],\n",
    "        \"total_cost\": \"Calculate the total Cost\",\n",
    "        \"cost_breakdown\": {{\n",
    "            {\"description1\":\"service\",\"amount\":\"cost for service\"},\n",
    "            {\"description2\":\"service\",\"amount\":\"cost for service\"},\n",
    "            {\"description3\":\"service\",\"amount\":\"cost for service\"},\n",
    "            {\"description4\":\"service\",\"amount\":\"cost for service\"},\n",
    "        }},\n",
    "        \"company_email\": \"contact@yourcompany.com\"\n",
    "    }}\n",
    "\n",
    "\n",
    "    *** Return Result in JSON format only. Nothing Else**\n",
    "\"\"\""
   ]
  },
  {
   "cell_type": "code",
   "execution_count": 113,
   "metadata": {},
   "outputs": [],
   "source": [
    "proposal_template = \"\"\"\n",
    "\n",
    "You are a helpful AI Assistant that generates software solution proposals based on the provided client requirements and company quotation.\n",
    "\n",
    "## Instructions\n",
    "1. Analyze the given information in depth.\n",
    "2. Create an innovative proposal for the client to provide a suitable software solution.\n",
    "3. Extract the required information and convert it into the exact JSON format specified below.\n",
    "\n",
    "## Client Requirements\n",
    "{client_requirements}\n",
    "\n",
    "## Company Quotation\n",
    "{quatation_details}\n",
    "\n",
    "## Required JSON Format\n",
    "\n",
    "{{\n",
    "    \"company_name\": \"Company Name\",\n",
    "    \"client_name\": \"Client Name\",\n",
    "    \"introduction\": \"Create an introduction for the company about their experience in the field for more than 12 years in more detail\",\n",
    "    \"problem_statement\": \"Client problem\",\n",
    "    \"solution_phases\": [\n",
    "        \"Requirement Analysis & Planning\",\n",
    "        \"Development & Testing\",\n",
    "        \"Deployment & Support\"\n",
    "    ],\n",
    "    \"team_members\": [\n",
    "        {{\"name\": \"Some Name of person\", \"role\": \"Role in project\"}},\n",
    "        {{\"name\": \"Some Name of person\", \"role\": \"Role in project\"}}\n",
    "    ],\n",
    "    \"total_cost\": \"Calculate the total cost\",\n",
    "    \"cost_breakdown\": [\n",
    "        {{\"description\": \"Service 1\", \"amount\": \"Cost for service\"}},\n",
    "        {{\"description\": \"Service 2\", \"amount\": \"Cost for service\"}},\n",
    "        {{\"description\": \"Service 3\", \"amount\": \"Cost for service\"}},\n",
    "        {{\"description\": \"Service 4\", \"amount\": \"Cost for service\"}}\n",
    "    ],\n",
    "    \"company_email\": \"contact@yourcompany.com\"\n",
    "}}\n",
    "\n",
    "*** Return the result in JSON format only. Do not include any explanation or additional text. ***\n",
    "\"\"\"\n"
   ]
  },
  {
   "cell_type": "code",
   "execution_count": 114,
   "metadata": {},
   "outputs": [],
   "source": [
    "proposal_prompt = PromptTemplate(\n",
    "    input_variables=[\"client_requirements\",\"quatation_details\"],\n",
    "    template=proposal_template\n",
    ")"
   ]
  },
  {
   "cell_type": "code",
   "execution_count": 115,
   "metadata": {},
   "outputs": [],
   "source": [
    "#Creating a chain\n",
    "proposal_chain = proposal_prompt | llm\n"
   ]
  },
  {
   "cell_type": "code",
   "execution_count": 116,
   "metadata": {},
   "outputs": [],
   "source": [
    "response = proposal_chain.invoke(input={\"client_requirements\":client_data,\"quatation_details\":company_quatation})"
   ]
  },
  {
   "cell_type": "code",
   "execution_count": 117,
   "metadata": {},
   "outputs": [
    {
     "name": "stdout",
     "output_type": "stream",
     "text": [
      "{\n",
      "    \"company_name\": \"DRC Systems India Limited\",\n",
      "    \"client_name\": \"Artisan Ecommerce Platform\",\n",
      "    \"introduction\": \"DRC Systems India Limited, with over 12 years of experience in software development, specializes in creating innovative solutions for various industries. Our team of experts is dedicated to delivering high-quality products that meet our clients' needs and exceed their expectations.\",\n",
      "    \"problem_statement\": \"Artisans lack a customizable ecommerce platform to showcase and sell their handcrafted products\",\n",
      "    \"solution_phases\": [\n",
      "        \"Requirement Analysis & Planning\",\n",
      "        \"Development & Testing\",\n",
      "        \"Deployment & Support\"\n",
      "    ],\n",
      "    \"team_members\": [\n",
      "        {\"name\": \"Rahul Jain\", \"role\": \"Project Manager\"},\n",
      "        {\"name\": \"Priya Sharma\", \"role\": \"Business Analyst\"},\n",
      "        {\"name\": \"Amit Kumar\", \"role\": \"UI/UX Designer\"},\n",
      "        {\"name\": \"Rohan Singh\", \"role\": \"Backend Developer\"},\n",
      "        {\"name\": \"Surbhi Gupta\", \"role\": \"Frontend Developer\"},\n",
      "        {\"name\": \"Tarun Verma\", \"role\": \"QA Engineer\"},\n",
      "        {\"name\": \"Ankit Jain\", \"role\": \"DevOps Engineer\"}\n",
      "    ],\n",
      "    \"total_cost\": \"3150000\",\n",
      "    \"cost_breakdown\": [\n",
      "        {\"description\": \"Business Analysis Requirement Gathering\", \"amount\": \"250000\"},\n",
      "        {\"description\": \"UIUX Design\", \"amount\": \"350000\"},\n",
      "        {\"description\": \"Backend Development\", \"amount\": \"1200000\"},\n",
      "        {\"description\": \"Frontend Development\", \"amount\": \"850000\"},\n",
      "        {\"description\": \"QA Testing\", \"amount\": \"400000\"},\n",
      "        {\"description\": \"DevOps Deployment\", \"amount\": \"300000\"},\n",
      "        {\"description\": \"Project Management\", \"amount\": \"300000\"},\n",
      "        {\"description\": \"Post Deployment Support\", \"amount\": \"400000\"}\n",
      "    ],\n",
      "    \"company_email\": \"contact@drcsystems.in\"\n",
      "}\n"
     ]
    }
   ],
   "source": [
    "print(response.content)"
   ]
  },
  {
   "cell_type": "code",
   "execution_count": null,
   "metadata": {},
   "outputs": [],
   "source": []
  }
 ],
 "metadata": {
  "kernelspec": {
   "display_name": ".venv",
   "language": "python",
   "name": "python3"
  },
  "language_info": {
   "codemirror_mode": {
    "name": "ipython",
    "version": 3
   },
   "file_extension": ".py",
   "mimetype": "text/x-python",
   "name": "python",
   "nbconvert_exporter": "python",
   "pygments_lexer": "ipython3",
   "version": "3.12.7"
  }
 },
 "nbformat": 4,
 "nbformat_minor": 2
}
